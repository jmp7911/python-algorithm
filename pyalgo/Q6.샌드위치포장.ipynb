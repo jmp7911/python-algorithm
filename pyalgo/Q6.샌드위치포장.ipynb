{
 "cells": [
  {
   "cell_type": "code",
   "execution_count": 13,
   "metadata": {},
   "outputs": [
    {
     "name": "stdout",
     "output_type": "stream",
     "text": [
      "2\n"
     ]
    },
    {
     "data": {
      "text/plain": [
       "2"
      ]
     },
     "execution_count": 13,
     "metadata": {},
     "output_type": "execute_result"
    }
   ],
   "source": [
    "def solution(data:list):\n",
    "    data_str = ','.join(map(str,data))\n",
    "    answer = make(data_str, 0)\n",
    "    print(answer)\n",
    "    return answer\n",
    "    \n",
    "\n",
    "def make(data:str, count:int):\n",
    "    product = '1,2,3,4,1'\n",
    "    start = data.find(product)\n",
    "    if (start + len(product)) == len(data):\n",
    "        end = start + len(product)\n",
    "    else:\n",
    "        end = start + len(product) + 1\n",
    "    if start == -1:\n",
    "        return count\n",
    "    else:\n",
    "        return make(data[:start] + data[end:], count + 1)\n",
    "    \n",
    "solution([1, 1, 1, 2, 3, 4, 1, 2, 3, 4, 1])"
   ]
  }
 ],
 "metadata": {
  "kernelspec": {
   "display_name": "Python 3",
   "language": "python",
   "name": "python3"
  },
  "language_info": {
   "codemirror_mode": {
    "name": "ipython",
    "version": 3
   },
   "file_extension": ".py",
   "mimetype": "text/x-python",
   "name": "python",
   "nbconvert_exporter": "python",
   "pygments_lexer": "ipython3",
   "version": "3.11.9"
  }
 },
 "nbformat": 4,
 "nbformat_minor": 2
}
