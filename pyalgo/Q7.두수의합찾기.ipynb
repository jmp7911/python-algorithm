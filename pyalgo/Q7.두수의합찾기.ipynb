{
 "cells": [
  {
   "cell_type": "code",
   "execution_count": 5,
   "metadata": {},
   "outputs": [
    {
     "data": {
      "text/plain": [
       "[0, 1]"
      ]
     },
     "execution_count": 5,
     "metadata": {},
     "output_type": "execute_result"
    }
   ],
   "source": [
    "def solution(data:list):\n",
    "    weight = data[1]\n",
    "    j_list:list = data[0]\n",
    "    \n",
    "    for i in range(len(j_list)):\n",
    "        x = j_list[i]\n",
    "        target = weight-x\n",
    "        if target == x:\n",
    "            if target in j_list[i+1:]:\n",
    "                answer = [i, j_list.index(target, i+1)]\n",
    "                break\n",
    "        if target in j_list:\n",
    "            index = j_list.index(target)\n",
    "            answer = [i, index]\n",
    "            break\n",
    "        \n",
    "    return sorted(answer)\n",
    "\n",
    "solution([[2, 2],4]\t)"
   ]
  }
 ],
 "metadata": {
  "kernelspec": {
   "display_name": "Python 3",
   "language": "python",
   "name": "python3"
  },
  "language_info": {
   "codemirror_mode": {
    "name": "ipython",
    "version": 3
   },
   "file_extension": ".py",
   "mimetype": "text/x-python",
   "name": "python",
   "nbconvert_exporter": "python",
   "pygments_lexer": "ipython3",
   "version": "3.11.9"
  }
 },
 "nbformat": 4,
 "nbformat_minor": 2
}
